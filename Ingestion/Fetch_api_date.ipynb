{
 "cells": [
  {
   "cell_type": "code",
   "execution_count": 1,
   "metadata": {},
   "outputs": [],
   "source": [
    "import requests\n",
    "import pandas as pd\n",
    "import logging\n",
    "from datetime import datetime\n",
    "from cryptography.fernet import Fernet"
   ]
  },
  {
   "cell_type": "code",
   "execution_count": 2,
   "metadata": {},
   "outputs": [],
   "source": [
    "#configure logging\n",
    "logging.basicConfig(level=logging.INFO, format = '%(asctime)s - %(levelname)s - %(message)s')"
   ]
  },
  {
   "cell_type": "code",
   "execution_count": 3,
   "metadata": {},
   "outputs": [],
   "source": [
    "def load_key(file_path):\n",
    "    \"\"\"Loading fernet key from a file\"\"\"\n",
    "    with open(file_path, 'rb') as key_file:\n",
    "        key = key_file.read()\n",
    "    return key"
   ]
  },
  {
   "cell_type": "code",
   "execution_count": 4,
   "metadata": {},
   "outputs": [],
   "source": [
    "def load_encrypted_api_key(file_path):\n",
    "    with open(file_path, 'rb') as enc_file:\n",
    "        encrypted_api_key = enc_file.read()\n",
    "    return encrypted_api_key"
   ]
  },
  {
   "cell_type": "code",
   "execution_count": 5,
   "metadata": {},
   "outputs": [],
   "source": [
    "def decrypt_data(encrypted_data, fernet):\n",
    "    \"\"\"Decode key using fernet\"\"\"\n",
    "    dercrypt_data = fernet.decrypt(encrypted_data).decode()\n",
    "    return dercrypt_data"
   ]
  },
  {
   "cell_type": "code",
   "execution_count": 6,
   "metadata": {},
   "outputs": [],
   "source": [
    "def fetch_data(api_key, url, initial_date):\n",
    "    headers = {\n",
    "        \"Authorization\": api_key,\n",
    "        \"Content-Type\": \"application/json\"\n",
    "    }\n",
    "    offset = f' WHERE CreatedOn>={initial_date} LIMIT 4500'\n",
    "    has_more = True\n",
    "    accumulated_data = pd.DataFrame()\n",
    "    "
   ]
  }
 ],
 "metadata": {
  "kernelspec": {
   "display_name": "base",
   "language": "python",
   "name": "python3"
  },
  "language_info": {
   "codemirror_mode": {
    "name": "ipython",
    "version": 3
   },
   "file_extension": ".py",
   "mimetype": "text/x-python",
   "name": "python",
   "nbconvert_exporter": "python",
   "pygments_lexer": "ipython3",
   "version": "3.11.7"
  }
 },
 "nbformat": 4,
 "nbformat_minor": 2
}
